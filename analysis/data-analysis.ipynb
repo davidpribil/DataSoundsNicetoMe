{
 "cells": [
  {
   "cell_type": "code",
   "execution_count": null,
   "metadata": {},
   "outputs": [],
   "source": [
    "import pandas as pd\n",
    "import numpy as np\n",
    "import matplotlib.pyplot as plt\n",
    "import seaborn as sns"
   ]
  },
  {
   "cell_type": "code",
   "execution_count": null,
   "metadata": {},
   "outputs": [],
   "source": [
    "Activity = pd.read_csv('../../data/Activity_202009190302.csv', low_memory=False)"
   ]
  },
  {
   "cell_type": "code",
   "execution_count": null,
   "metadata": {},
   "outputs": [],
   "source": [
    "Activity['ActivityTime'] = pd.to_datetime( Activity['ActivityTime'] )\n",
    "\n",
    "Activity['hour'] = Activity['ActivityTime'].dt.hour\n",
    "Activity['day'] = Activity['ActivityTime'].dt.day\n",
    "\n",
    "Activity['BasicActivity'].astype('category')\n",
    "\n",
    "\n",
    "Activity = Activity.sort_values(by = 'ActivityTime')\n",
    "Activity =Activity.reset_index(drop=True)\n",
    "\n",
    "Activity['ActivityDetails'] = Activity['ActivityDetails'].astype('category')\n",
    "Activity['BasicActivity'] = Activity['BasicActivity'].astype('category')"
   ]
  },
  {
   "cell_type": "code",
   "execution_count": null,
   "metadata": {},
   "outputs": [],
   "source": [
    "#only keeping high occurence activities\n",
    "Activity = Activity.loc[Activity.groupby('BasicActivity').REF_PARTNER.transform(len) > 100]"
   ]
  },
  {
   "cell_type": "code",
   "execution_count": null,
   "metadata": {},
   "outputs": [],
   "source": [
    "Activity.info()"
   ]
  },
  {
   "cell_type": "code",
   "execution_count": null,
   "metadata": {},
   "outputs": [],
   "source": [
    "fig,ax = plt.subplots()\n",
    "#ax.set_xscale('log')\n",
    "ax.set_yscale('log')\n",
    "Activity['REF_PARTNER'].value_counts().hist(ax = ax)\n",
    "ax.set_title('usage')\n",
    "fig.savefig('Usage.png')"
   ]
  },
  {
   "cell_type": "code",
   "execution_count": null,
   "metadata": {},
   "outputs": [],
   "source": [
    "Activity['REF_PARTNER'].value_counts()"
   ]
  },
  {
   "cell_type": "code",
   "execution_count": null,
   "metadata": {},
   "outputs": [],
   "source": [
    "# cut_off = '2020-03-12 07:32:12'\n",
    "cut_off = '2020-04-12 07:32:12'\n",
    "# LaterActivity = Activity.loc[Activity['ActivityTime'] > cut_off, 'ActivityTime'].hist()\n",
    "LaterActivity = Activity.loc[Activity['ActivityTime'] > cut_off]\n",
    "#plt.save"
   ]
  },
  {
   "cell_type": "code",
   "execution_count": null,
   "metadata": {},
   "outputs": [],
   "source": [
    "PARTNER_ID = 430124127\n",
    "`\n",
    "Agent_time_line = LaterActivity.loc[ LaterActivity['REF_PARTNER'] == PARTNER_ID]\n",
    "Agent_time_line_arr = Agent_time_line['BasicActivity'].to_numpy()\n",
    "\n",
    "Agent_time_line_arr = Agent_time_line_arr[(Agent_time_line_arr != 'Daily session')]\n",
    "\n",
    "trans_mat = pd.crosstab(Agent_time_line_arr[1:]\\\n",
    "                        , Agent_time_line_arr[:-1]\\\n",
    "                        ,normalize=1)\n",
    "\n",
    "\n",
    "last_activity = Agent_time_line_arr[-1]\n",
    "\n",
    "trans_mat[last_activity].idxmax()"
   ]
  },
  {
   "cell_type": "code",
   "execution_count": null,
   "metadata": {},
   "outputs": [],
   "source": [
    "trans_cols = trans_mat.columns\n",
    "\n",
    "import matplotlib\n",
    "matplotlib.rcParams.update({'font.size': 14})\n",
    "fig, ax = plt.subplots()\n",
    "ax.imshow( trans_mat.T )\n",
    "ax.set_xticks(np.arange(len(trans_cols)))\n",
    "ax.set_yticks(np.arange(len(trans_cols)))\n",
    "# ... and label them with the respective list entries\n",
    "# trans_cols=trans_cols[::-1]\n",
    "ax.set_xticklabels(trans_cols)\n",
    "ax.set_yticklabels(trans_cols)\n",
    "plt.setp(ax.get_xticklabels(), rotation=45, ha=\"right\",\n",
    "         rotation_mode=\"anchor\")\n",
    "\n",
    "for i, c_i in enumerate(trans_cols):\n",
    "    for j, c_j in enumerate(trans_cols):\n",
    "        text = ax.text(j, i, np.round( trans_mat[c_i][c_j], 2), ha=\"center\", va=\"center\", color=\"w\")\n",
    "#         text = ax.text(j, i, 2, ha=\"center\", va=\"center\", color=\"w\")\n",
    "\n",
    "fig.savefig(\"transitio_mat.png\", dpi = 200, bbox_inches='tight')"
   ]
  },
  {
   "cell_type": "code",
   "execution_count": null,
   "metadata": {},
   "outputs": [],
   "source": [
    "PARTNER_COUNTS = np.array( Activity['REF_PARTNER'].value_counts().tolist() )\n",
    "PARTNER_IDS = np.array( Activity['REF_PARTNER'].value_counts().index.tolist() )\n",
    "\n",
    "lim = 45\n",
    "\n",
    "PARTNER_IDS[PARTNER_COUNTS > lim]\n",
    "PARTNER_COUNTS[ PARTNER_COUNTS > lim ]\n"
   ]
  },
  {
   "cell_type": "code",
   "execution_count": null,
   "metadata": {},
   "outputs": [],
   "source": [
    "PARTNER_ID = 430124127\n",
    "for PARTNER_ID in PARTNER_IDS:\n",
    "    Agent_time_line = LaterActivity.loc[ LaterActivity['REF_PARTNER'] == PARTNER_ID]\n",
    "    Agent_time_line_arr = Agent_time_line['BasicActivity'].to_numpy()\n",
    "\n",
    "    Agent_time_line_arr = Agent_time_line_arr[(Agent_time_line_arr != 'Daily session')]\n",
    "\n",
    "    trans_mat = pd.crosstab(Agent_time_line_arr[1:]\\\n",
    "                            , Agent_time_line_arr[:-1]\\\n",
    "                            ,normalize=1)\n",
    "\n",
    "\n",
    "# last_activity = Agent_time_line_arr[-1]\n",
    "\n",
    "# trans_mat[last_activity].idxmax()"
   ]
  },
  {
   "cell_type": "code",
   "execution_count": null,
   "metadata": {},
   "outputs": [],
   "source": []
  }
 ],
 "metadata": {
  "kernelspec": {
   "display_name": "Python 3",
   "language": "python",
   "name": "python3"
  },
  "language_info": {
   "codemirror_mode": {
    "name": "ipython",
    "version": 3
   },
   "file_extension": ".py",
   "mimetype": "text/x-python",
   "name": "python",
   "nbconvert_exporter": "python",
   "pygments_lexer": "ipython3",
   "version": "3.6.9"
  }
 },
 "nbformat": 4,
 "nbformat_minor": 2
}
