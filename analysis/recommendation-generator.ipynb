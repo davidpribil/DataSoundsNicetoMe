{
 "cells": [
  {
   "cell_type": "code",
   "execution_count": null,
   "metadata": {},
   "outputs": [],
   "source": [
    "import pandas as pd\n",
    "import numpy as np\n",
    "import matplotlib.pyplot as plt\n",
    "import seaborn as sns"
   ]
  },
  {
   "cell_type": "code",
   "execution_count": null,
   "metadata": {},
   "outputs": [],
   "source": [
    "Activity = pd.read_csv('../../data/Activity_202009190302.csv', low_memory=False)"
   ]
  },
  {
   "cell_type": "code",
   "execution_count": null,
   "metadata": {},
   "outputs": [],
   "source": [
    "Activity['ActivityTime'] = pd.to_datetime( Activity['ActivityTime'] )\n",
    "\n",
    "Activity['hour'] = Activity['ActivityTime'].dt.hour\n",
    "Activity['day'] = Activity['ActivityTime'].dt.day\n",
    "\n",
    "cat_for_merge_1 = 'Helsana+ survey second half-year 2020'\n",
    "cat_for_merge_2 = 'Helsana+ survey first half year'\n",
    "Activity.loc[Activity['BasicActivity'] == cat_for_merge_1, 'BasicActivity'] = 'survey'\n",
    "Activity.loc[Activity['BasicActivity'] == cat_for_merge_2, 'BasicActivity'] = 'survey'\n",
    "\n",
    "Activity['BasicActivity'].astype('category')\n",
    "\n",
    "\n",
    "Activity = Activity.sort_values(by = 'ActivityTime')\n",
    "Activity =Activity.reset_index(drop=True)\n",
    "\n",
    "Activity['ActivityDetails'] = Activity['ActivityDetails'].astype('category')\n",
    "# Activity['BasicActivity'] = Activity['BasicActivity'].astype('category')\n",
    "# Activity['REF_PARTNER'] = Activity['REF_PARTNER'].astype('np.int')"
   ]
  },
  {
   "cell_type": "code",
   "execution_count": null,
   "metadata": {},
   "outputs": [],
   "source": [
    "#only keeping high occurence activities\n",
    "Activity = Activity.loc[Activity.groupby('BasicActivity').REF_PARTNER.transform(len) > 100]"
   ]
  },
  {
   "cell_type": "code",
   "execution_count": null,
   "metadata": {},
   "outputs": [],
   "source": [
    "Activity['BasicActivity'] = Activity['BasicActivity'].astype('category')"
   ]
  },
  {
   "cell_type": "code",
   "execution_count": null,
   "metadata": {},
   "outputs": [],
   "source": [
    "Activity['mock_fraud'] = np.random.randint(5, size = len(Activity))"
   ]
  },
  {
   "cell_type": "code",
   "execution_count": null,
   "metadata": {},
   "outputs": [],
   "source": [
    "activities_list = Activity['BasicActivity'].value_counts().index"
   ]
  },
  {
   "cell_type": "code",
   "execution_count": null,
   "metadata": {},
   "outputs": [],
   "source": [
    "# cut_off = '2020-03-12 07:32:12'\n",
    "cut_off = '2020-04-12 07:32:12'\n",
    "# LaterActivity = Activity.loc[Activity['ActivityTime'] > cut_off, 'ActivityTime'].hist()\n",
    "LaterActivity = Activity.loc[Activity['ActivityTime'] > cut_off]\n",
    "#plt.save"
   ]
  },
  {
   "cell_type": "code",
   "execution_count": null,
   "metadata": {},
   "outputs": [],
   "source": [
    "PARTNER_ID = 430124127\n",
    "\n",
    "Agent_time_line = LaterActivity.loc[ LaterActivity['REF_PARTNER'] == PARTNER_ID]\n",
    "Agent_time_line_arr = Agent_time_line['BasicActivity'].to_numpy()\n",
    "\n",
    "Agent_time_line_arr = Agent_time_line_arr[(Agent_time_line_arr != 'Daily session')]\n",
    "\n",
    "trans_mat = pd.crosstab(Agent_time_line_arr[1:]\\\n",
    "                        , Agent_time_line_arr[:-1]\\\n",
    "                        ,normalize=1)\n",
    "\n",
    "\n",
    "last_activity = Agent_time_line_arr[-1]\n",
    "\n",
    "trans_mat[last_activity].idxmax()\n",
    "\n",
    "choices = trans_mat[last_activity].index.to_numpy()\n",
    "\n",
    "beta = 4\n",
    "exps = np.exp(beta * trans_mat[last_activity])\n",
    "exps /= exps.sum()\n",
    "np.random.choice( choices, p=exps )"
   ]
  },
  {
   "cell_type": "code",
   "execution_count": null,
   "metadata": {},
   "outputs": [],
   "source": [
    "trans_cols = trans_mat.columns\n",
    "\n",
    "import matplotlib\n",
    "matplotlib.rcParams.update({'font.size': 14})\n",
    "fig, ax = plt.subplots()\n",
    "ax.imshow( trans_mat.T )\n",
    "ax.set_xticks(np.arange(len(trans_cols)))\n",
    "ax.set_yticks(np.arange(len(trans_cols)))\n",
    "# ... and label them with the respective list entries\n",
    "# trans_cols=trans_cols[::-1]\n",
    "ax.set_xticklabels(trans_cols)\n",
    "ax.set_yticklabels(trans_cols)\n",
    "plt.setp(ax.get_xticklabels(), rotation=45, ha=\"right\",\n",
    "         rotation_mode=\"anchor\")\n",
    "\n",
    "for i, c_i in enumerate(trans_cols):\n",
    "    for j, c_j in enumerate(trans_cols):\n",
    "        text = ax.text(j, i, np.round( trans_mat[c_i][c_j], 2), ha=\"center\", va=\"center\", color=\"w\")\n",
    "#         text = ax.text(j, i, 2, ha=\"center\", va=\"center\", color=\"w\")\n",
    "\n",
    "fig.savefig(\"transitio_mat.png\", dpi = 200, bbox_inches='tight')"
   ]
  },
  {
   "cell_type": "code",
   "execution_count": null,
   "metadata": {},
   "outputs": [],
   "source": [
    "time_line_arr = LaterActivity['BasicActivity'].to_numpy()\n",
    "\n",
    "\n",
    "trans_mat_ult = pd.crosstab(time_line_arr[1:]\\\n",
    "                        , time_line_arr[:-1]\\\n",
    "                        ,normalize=1)\n",
    "\n",
    "\n",
    "trans_mat_ult[:] = 0 "
   ]
  },
  {
   "cell_type": "code",
   "execution_count": null,
   "metadata": {},
   "outputs": [],
   "source": [
    "PARTNER_COUNTS = np.array( Activity['REF_PARTNER'].value_counts().tolist() )\n",
    "PARTNER_IDS = np.array( Activity['REF_PARTNER'].value_counts().index.tolist() )\n",
    "\n",
    "lim = 10\n",
    "\n",
    "PARTNER_IDS = PARTNER_IDS[PARTNER_COUNTS > lim]\n",
    "PARTNER_COUNTS = PARTNER_COUNTS[ PARTNER_COUNTS > lim ]\n"
   ]
  },
  {
   "cell_type": "code",
   "execution_count": null,
   "metadata": {},
   "outputs": [],
   "source": [
    "PARTNER_ID = 430124127\n",
    "for PARTNER_ID in PARTNER_IDS:\n",
    "    Agent_time_line = LaterActivity.loc[ LaterActivity['REF_PARTNER'] == PARTNER_ID]\n",
    "    Agent_time_line_arr = Agent_time_line['BasicActivity'].to_numpy()\n",
    "\n",
    "    Agent_time_line_arr = Agent_time_line_arr[(Agent_time_line_arr != 'Daily session')]\n",
    "\n",
    "    trans_mat = pd.crosstab(Agent_time_line_arr[1:]\\\n",
    "                            , Agent_time_line_arr[:-1]\\\n",
    "                            ,normalize=1)\n",
    "    shared = trans_mat_ult.columns & trans_mat.columns\n",
    "    trans_mat_ult.loc[shared, shared] = trans_mat_ult[shared][shared] + trans_mat[shared][shared]\n",
    "#     trans_mat_ult = trans_mat_ult + trans_mat\n",
    "#     trans_mat_ult[trans_mat.columns & trans_mat_1.columns] + trans_mat_1[trans_mat.columns & trans_mat_1.columns] \n",
    "\n",
    "\n",
    "# last_activity = Agent_time_line_arr[-1]\n",
    "\n",
    "# trans_mat[last_activity].idxmax()\n",
    "\n",
    "trans_mat_ult /= trans_mat_ult.sum()\n",
    "\n",
    "trans_mat_ult = trans_mat_ult.fillna(0)\n",
    "\n",
    "removable_cols = trans_mat_ult.columns[np.array( [trans_mat_ult.sum() == 0 ])[0]]\n",
    "\n",
    "trans_mat_ult = trans_mat_ult.drop(removable_cols, 1)\n",
    "trans_mat_ult = trans_mat_ult.drop(removable_cols, 0)"
   ]
  },
  {
   "cell_type": "code",
   "execution_count": null,
   "metadata": {},
   "outputs": [],
   "source": [
    "# PARTNER_COUNTS = np.array( Activity['REF_PARTNER'].value_counts().tolist() )\n",
    "# PARTNER_IDS = np.array( Activity['REF_PARTNER'].value_counts().index.tolist() )\n",
    "\n",
    "# lim = 20\n",
    "\n",
    "# PARTNER_IDS = PARTNER_IDS[PARTNER_COUNTS > lim]\n",
    "# PARTNER_COUNTS = PARTNER_COUNTS[ PARTNER_COUNTS > lim ]\n"
   ]
  },
  {
   "cell_type": "code",
   "execution_count": null,
   "metadata": {},
   "outputs": [],
   "source": [
    "PARTNER_IDS = PARTNER_IDS.astype(int)\n"
   ]
  },
  {
   "cell_type": "code",
   "execution_count": null,
   "metadata": {},
   "outputs": [],
   "source": [
    "recomms = pd.DataFrame(PARTNER_IDS, columns = ['REF_PARTNER'])\n",
    "recomms['recom'] = 0"
   ]
  },
  {
   "cell_type": "code",
   "execution_count": null,
   "metadata": {},
   "outputs": [],
   "source": [
    "Loyalty_activities=['Weekly Bonus', 'Discover Helsana Coach', 'survey'\\\n",
    ", 'Step Challenge - Helsana Coach App', 'Longstanding customers'\\\n",
    ", 'Link to health tracker app', 'Long-term policy', 'Medical early detection'\\\n",
    ", 'Helsana+ survey second half-year 2020','Helsana+ survey first half year']\n",
    "\n",
    "trans_mat_ult."
   ]
  },
  {
   "cell_type": "code",
   "execution_count": null,
   "metadata": {},
   "outputs": [],
   "source": [
    "shared = trans_mat_ult.index & Loyalty_activities"
   ]
  },
  {
   "cell_type": "code",
   "execution_count": null,
   "metadata": {},
   "outputs": [],
   "source": [
    "trans_mat_ult_alter = trans_mat_ult.drop(shared, 0)"
   ]
  },
  {
   "cell_type": "code",
   "execution_count": null,
   "metadata": {},
   "outputs": [],
   "source": [
    "for PARTNER_ID in PARTNER_IDS:\n",
    "    Agent_time_line = LaterActivity.loc[ LaterActivity['REF_PARTNER'] == PARTNER_ID]\n",
    "    Agent_time_line_arr = Agent_time_line['BasicActivity'].to_numpy()\n",
    "    \n",
    "    Agent_time_line_arr = Agent_time_line_arr[(Agent_time_line_arr != 'Daily session')]\n",
    "\n",
    "    if(len(Agent_time_line_arr)):\n",
    "        last_activity = Agent_time_line_arr[-1]\n",
    "    else:\n",
    "        last_activity = activities_list[0]\n",
    "        \n",
    "    choices = trans_mat_ult_alter[last_activity].index.to_numpy()\n",
    "\n",
    "    beta = 2\n",
    "    exps = np.exp(beta * trans_mat_ult_alter[last_activity])\n",
    "    exps /= exps.sum()\n",
    "    recom = np.random.choice( choices, p=exps )\n",
    "    recomms.loc[recomms['REF_PARTNER'] == PARTNER_ID, 'recom'] = recom"
   ]
  },
  {
   "cell_type": "code",
   "execution_count": null,
   "metadata": {},
   "outputs": [],
   "source": [
    "choices"
   ]
  },
  {
   "cell_type": "code",
   "execution_count": null,
   "metadata": {},
   "outputs": [],
   "source": [
    "recomms['recom'].value_counts()"
   ]
  },
  {
   "cell_type": "code",
   "execution_count": null,
   "metadata": {},
   "outputs": [],
   "source": [
    "recomms.to_csv('Recomms.csv', index = False)"
   ]
  },
  {
   "cell_type": "code",
   "execution_count": null,
   "metadata": {},
   "outputs": [],
   "source": [
    "trans_cols = trans_mat_ult_alter.columns;\n",
    "trans_rows = trans_mat_ult_alter.index\n",
    "\n",
    "import matplotlib\n",
    "matplotlib.rcParams.update({'font.size': 11})\n",
    "fig, ax = plt.subplots()\n",
    "ax.imshow( trans_mat_ult_alter.T );\n",
    "ax.set_xticks(np.arange(len(trans_rows)))\n",
    "ax.set_yticks(np.arange(len(trans_cols)));\n",
    "# # ... and label them with the respective list entries\n",
    "# # trans_cols=trans_cols[::-1]\n",
    "ax.set_xticklabels(trans_rows)\n",
    "ax.set_yticklabels(trans_cols);\n",
    "plt.setp(ax.get_xticklabels(), rotation=45, ha=\"right\",\n",
    "         rotation_mode=\"anchor\");\n",
    "\n",
    "# # for i, c_i in enumerate(trans_cols):\n",
    "# #     for j, c_j in enumerate(trans_cols):\n",
    "# #         text = ax.text(j, i, np.round( trans_mat_ult[c_i][c_j], 1), ha=\"center\", va=\"center\", color=\"w\")\n",
    "\n",
    "\n",
    "# fig.savefig(\"transitio_mat_ult-2.png\", dpi = 200, bbox_inches='tight')"
   ]
  },
  {
   "cell_type": "code",
   "execution_count": null,
   "metadata": {},
   "outputs": [],
   "source": [
    "trans_cols = trans_mat_ult.columns\n",
    "\n",
    "import matplotlib\n",
    "matplotlib.rcParams.update({'font.size': 11})\n",
    "fig, ax = plt.subplots()\n",
    "ax.imshow( trans_mat_ult.T )\n",
    "ax.set_xticks(np.arange(len(trans_cols)))\n",
    "ax.set_yticks(np.arange(len(trans_cols)))\n",
    "# ... and label them with the respective list entries\n",
    "# trans_cols=trans_cols[::-1]\n",
    "ax.set_xticklabels(trans_cols)\n",
    "ax.set_yticklabels(trans_cols)\n",
    "plt.setp(ax.get_xticklabels(), rotation=45, ha=\"right\",\n",
    "         rotation_mode=\"anchor\")\n",
    "\n",
    "# for i, c_i in enumerate(trans_cols):\n",
    "#     for j, c_j in enumerate(trans_cols):\n",
    "#         text = ax.text(j, i, np.round( trans_mat_ult[c_i][c_j], 1), ha=\"center\", va=\"center\", color=\"w\")\n",
    "\n",
    "\n",
    "fig.savefig(\"transitio_mat_ult-2.png\", dpi = 200, bbox_inches='tight')"
   ]
  },
  {
   "cell_type": "code",
   "execution_count": null,
   "metadata": {},
   "outputs": [],
   "source": [
    "activity_list = np.array(Activity['BasicActivity'].value_counts().index)"
   ]
  },
  {
   "cell_type": "code",
   "execution_count": null,
   "metadata": {},
   "outputs": [],
   "source": [
    "# activity_list = ['Daily session', 'Nutrition programme', 'Trails App Run', 'Personal exercise', 'Weekly bonus']\n",
    "\n",
    "fig , ax = plt.subplots()\n",
    "for specific_activity in activity_list:\n",
    "    Agent_specific_activity = Agent_time_line.loc[Agent_time_line['BasicActivity']== specific_activity]\n",
    "    if len(Agent_specific_activity):\n",
    "        ax.scatter(Agent_specific_activity['ActivityTime'], Agent_specific_activity['hour']\\\n",
    "                 , label = specific_activity, alpha = 0.8, edgecolor = 'k', s=45)\n",
    "\n",
    "fraudaluent = Agent_time_line.loc[Agent_time_line['mock_fraud'] == 1]\n",
    "ax.scatter( fraudaluent['ActivityTime'], fraudaluent['hour'], facecolors = 'none'\\\n",
    "           , linestyle = '--', edgecolor = 'r', s = 100, label = 'fraud', linewidth = 2 )\n",
    "    \n",
    "ax.legend(bbox_to_anchor=(1.05, 1), loc='upper left')\n",
    "\n",
    "time_range = pd.date_range(Agent_time_line['ActivityTime'].to_numpy()[0]\\\n",
    "                                    , Agent_time_line['ActivityTime'].to_numpy()[-1], periods=8)\n",
    "ax.plot(time_range, np.ones(len(time_range)),'-o')\n",
    "\n",
    "\n",
    "fig.savefig(\"specificAgentt.png\", dpi = 300, bbox_inches='tight')"
   ]
  },
  {
   "cell_type": "code",
   "execution_count": null,
   "metadata": {},
   "outputs": [],
   "source": [
    "# begin = Agent_time_line['ActivityTime'].to_numpy()[0]\n",
    "# end =  Agent_time_line['ActivityTime'].to_numpy()[-1]\n",
    "# periods = float( (end - begin) / 1000000000/`3600/24 )\n",
    "# time_range = pd.date_range(begin, end, periods=periods)\n",
    "# y = np.sin(np.arange(len(time_range)))\n",
    "# plt.plot(time_range, y,'--')\n"
   ]
  }
 ],
 "metadata": {
  "kernelspec": {
   "display_name": "Python 3",
   "language": "python",
   "name": "python3"
  },
  "language_info": {
   "codemirror_mode": {
    "name": "ipython",
    "version": 3
   },
   "file_extension": ".py",
   "mimetype": "text/x-python",
   "name": "python",
   "nbconvert_exporter": "python",
   "pygments_lexer": "ipython3",
   "version": "3.6.9"
  }
 },
 "nbformat": 4,
 "nbformat_minor": 2
}
